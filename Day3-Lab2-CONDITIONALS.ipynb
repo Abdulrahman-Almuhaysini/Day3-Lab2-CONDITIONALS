{
 "cells": [
  {
   "cell_type": "code",
   "execution_count": 5,
   "metadata": {},
   "outputs": [
    {
     "name": "stdout",
     "output_type": "stream",
     "text": [
      "I recommended it . It is good\n"
     ]
    }
   ],
   "source": [
    "movie = \"spider Man No way home\"\n",
    "rating = 3\n",
    "score = 72.65\n",
    "if rating>=4 and score>80:\n",
    "    print(\"Highly recommended\")\n",
    "elif rating>=3 and score>70:\n",
    "    print(\"I recommended it . It is good\")\n",
    "elif rating<=2 and score>60:\n",
    "    print(\"You should check it out!\")\n",
    "elif rating<=2 and score>50:\n",
    "    print(\"Don't watch it. It is a waste of time\")"
   ]
  }
 ],
 "metadata": {
  "kernelspec": {
   "display_name": "Python 3.9.12 ('base')",
   "language": "python",
   "name": "python3"
  },
  "language_info": {
   "codemirror_mode": {
    "name": "ipython",
    "version": 3
   },
   "file_extension": ".py",
   "mimetype": "text/x-python",
   "name": "python",
   "nbconvert_exporter": "python",
   "pygments_lexer": "ipython3",
   "version": "3.9.12"
  },
  "orig_nbformat": 4,
  "vscode": {
   "interpreter": {
    "hash": "40d3a090f54c6569ab1632332b64b2c03c39dcf918b08424e98f38b5ae0af88f"
   }
  }
 },
 "nbformat": 4,
 "nbformat_minor": 2
}
